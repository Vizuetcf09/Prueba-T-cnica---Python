{
 "cells": [
  {
   "cell_type": "markdown",
   "id": "c43ad85f",
   "metadata": {},
   "source": [
    "# Detección de objetos\n",
    "\n",
    "Dada una imagen, detecta los objetos presentes en la imagen con OpenCV"
   ]
  },
  {
   "cell_type": "code",
   "execution_count": 1,
   "id": "558693c2",
   "metadata": {},
   "outputs": [],
   "source": [
    "import cv2"
   ]
  },
  {
   "cell_type": "code",
   "execution_count": 7,
   "id": "8970b91c",
   "metadata": {},
   "outputs": [],
   "source": [
    "# model arquitecture\n",
    "prototxt = \"model/MobileNetSSD_deploy.prototxt.txt\"\n",
    "model = \"model/MobileNetSSD_deploy.caffemodel\"\n",
    "\n",
    "classes = {\n",
    "    0: \"gato\"\n",
    "}"
   ]
  },
  {
   "cell_type": "code",
   "execution_count": 9,
   "id": "e69a4deb",
   "metadata": {},
   "outputs": [
    {
     "ename": "error",
     "evalue": "OpenCV(4.12.0) /io/opencv/modules/dnn/src/caffe/caffe_io.cpp:1126: error: (-2:Unspecified error) FAILED: fs.is_open(). Can't open \"model/MobileNetSSD_deploy.prototxt.txt\" in function 'ReadProtoFromTextFile'\n",
     "output_type": "error",
     "traceback": [
      "\u001b[31m---------------------------------------------------------------------------\u001b[39m",
      "\u001b[31merror\u001b[39m                                     Traceback (most recent call last)",
      "\u001b[36mCell\u001b[39m\u001b[36m \u001b[39m\u001b[32mIn[9]\u001b[39m\u001b[32m, line 2\u001b[39m\n\u001b[32m      1\u001b[39m \u001b[38;5;66;03m# load model\u001b[39;00m\n\u001b[32m----> \u001b[39m\u001b[32m2\u001b[39m net = \u001b[43mcv2\u001b[49m\u001b[43m.\u001b[49m\u001b[43mdnn\u001b[49m\u001b[43m.\u001b[49m\u001b[43mreadNet\u001b[49m\u001b[43m(\u001b[49m\u001b[43mprototxt\u001b[49m\u001b[43m,\u001b[49m\u001b[43m \u001b[49m\u001b[43mmodel\u001b[49m\u001b[43m)\u001b[49m\n",
      "\u001b[31merror\u001b[39m: OpenCV(4.12.0) /io/opencv/modules/dnn/src/caffe/caffe_io.cpp:1126: error: (-2:Unspecified error) FAILED: fs.is_open(). Can't open \"model/MobileNetSSD_deploy.prototxt.txt\" in function 'ReadProtoFromTextFile'\n"
     ]
    }
   ],
   "source": [
    "# load model\n",
    "net = cv2.dnn.readNet(prototxt, model)"
   ]
  }
 ],
 "metadata": {
  "kernelspec": {
   "display_name": "venv",
   "language": "python",
   "name": "python3"
  },
  "language_info": {
   "codemirror_mode": {
    "name": "ipython",
    "version": 3
   },
   "file_extension": ".py",
   "mimetype": "text/x-python",
   "name": "python",
   "nbconvert_exporter": "python",
   "pygments_lexer": "ipython3",
   "version": "3.12.1"
  }
 },
 "nbformat": 4,
 "nbformat_minor": 5
}
