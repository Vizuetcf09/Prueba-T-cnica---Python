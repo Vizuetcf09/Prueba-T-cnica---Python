{
 "cells": [
  {
   "cell_type": "markdown",
<<<<<<< HEAD
   "id": "c43ad85f",
=======
   "id": "70591633",
>>>>>>> 78b770bade1857ae47799c7fe503882790882953
   "metadata": {},
   "source": [
    "# Detección de objetos\n",
    "\n",
    "Dada una imagen, detecta los objetos presentes en la imagen con OpenCV"
   ]
<<<<<<< HEAD
  },
  {
   "cell_type": "code",
   "execution_count": null,
   "id": "558693c2",
   "metadata": {},
   "outputs": [],
   "source": [
    "import cv2"
   ]
  }
 ],
 "metadata": {
  "kernelspec": {
   "display_name": "venv",
   "language": "python",
   "name": "python3"
  },
  "language_info": {
   "name": "python",
   "version": "3.12.1"
=======
  }
 ],
 "metadata": {
  "language_info": {
   "name": "python"
>>>>>>> 78b770bade1857ae47799c7fe503882790882953
  }
 },
 "nbformat": 4,
 "nbformat_minor": 5
}
