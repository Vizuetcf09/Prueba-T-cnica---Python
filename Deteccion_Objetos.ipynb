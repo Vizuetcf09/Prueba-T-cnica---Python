{
 "cells": [
  {
   "cell_type": "markdown",
   "id": "70591633",
   "metadata": {},
   "source": [
    "# Detección de objetos\n",
    "\n",
    "Dada una imagen, detecta los objetos presentes en la imagen con OpenCV"
   ]
  }
 ],
 "metadata": {
  "language_info": {
   "name": "python"
  }
 },
 "nbformat": 4,
 "nbformat_minor": 5
}
