{
 "cells": [
  {
   "cell_type": "markdown",
   "id": "c43ad85f",
   "metadata": {},
   "source": [
    "# Detección de objetos\n",
    "\n",
    "Dada una imagen, detecta los objetos presentes en la imagen con OpenCV"
   ]
  },
  {
   "cell_type": "code",
   "execution_count": null,
   "id": "558693c2",
   "metadata": {},
   "outputs": [],
   "source": [
    "import cv2"
   ]
  }
 ],
 "metadata": {
  "kernelspec": {
   "display_name": "venv",
   "language": "python",
   "name": "python3"
  },
  "language_info": {
   "name": "python",
   "version": "3.12.1"
  }
 },
 "nbformat": 4,
 "nbformat_minor": 5
}
