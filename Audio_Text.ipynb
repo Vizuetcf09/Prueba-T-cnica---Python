{
 "cells": [
  {
   "cell_type": "markdown",
   "id": "841a0462",
   "metadata": {},
   "source": [
    "# Audio to text\n",
    "\n",
    "Transcribe un archivo de audio a texto\n"
   ]
  },
  {
   "cell_type": "code",
   "execution_count": 1,
   "id": "c9c385d8",
   "metadata": {},
   "outputs": [],
   "source": [
    "import os\n",
    "import whisper"
   ]
  },
  {
   "cell_type": "code",
   "execution_count": 2,
   "id": "80f10091",
   "metadata": {},
   "outputs": [],
   "source": [
    "audio_file_path = './assets/audio.mp3'\n",
    "model = whisper.load_model(\"base\")"
   ]
  },
  {
   "cell_type": "code",
   "execution_count": 3,
   "id": "1c6970af",
   "metadata": {},
   "outputs": [
    {
     "name": "stdout",
     "output_type": "stream",
     "text": [
      "Audio transcrito: ./assets/audio.mp3\n",
      "Texto:  I like biology first. I do. I like it. I know it's better if the region is... I don't know. I just try to. I just try to. I know. Chinese ambassador gave me another one last week. It's like my best. I have a lot of love with this. I love it. I love it. I love it. I love it. I love it. I love it. I love it. I love it. I love it. I love it. I love it. I love it. I love it. I love it. I love it. I love it. I love it. I'm one of the Chinese lovers. Sh�äh, ha, ha, ha. Baby. Baby. There's a healthy baby sitting around myself. There's a bit of life too. Oh, this is the one you put it on. It is the one you put it on. Yeah, it's a tennis dance. It's a tennis dance. It's a tennis dance. It's a tennis dance. It's a tennis dance. It's a tennis dance. Like it's been О, I used to wearing something. It's a tennis dance. It's an waterfall dance. It's important. It involves those things. Like that. The people of this house... Mainстановors are, like that. water men\n"
     ]
    }
   ],
   "source": [
    "def transcribe_audio(audio_path):\n",
    "    try:\n",
    "        # Verificar si el archivo de audio existe\n",
    "        if not os.path.exists(audio_path):\n",
    "            print(f\"Archivo de audio no encontrado: {audio_path}\")\n",
    "            return ''\n",
    "\n",
    "        # Transcribir el audio\n",
    "        result = model.transcribe(audio_path, fp16=False, language=\"en\")\n",
    "        text = result['text']\n",
    "\n",
    "        print(f\"Audio transcrito: {audio_path}\")\n",
    "        print(f\"Texto: {text}\")\n",
    "        return text\n",
    "    except Exception as e:\n",
    "        print(f\"Error al transcribir el audio {audio_path}: {e}\")\n",
    "        return ''\n",
    "\n",
    "transcription = transcribe_audio(audio_file_path)"
   ]
  },
  {
   "cell_type": "code",
   "execution_count": 4,
   "id": "cb2e8342",
   "metadata": {},
   "outputs": [
    {
     "name": "stdout",
     "output_type": "stream",
     "text": [
      "Transcripción guardada en: ./assets/audio_texto.txt\n"
     ]
    }
   ],
   "source": [
    "if transcription:\n",
    "    text_file_path = os.path.splitext(audio_file_path)[0] + '_texto.txt'\n",
    "\n",
    "    with open(text_file_path, 'w') as file:\n",
    "        file.write(transcription)\n",
    "\n",
    "    print(f\"Transcripción guardada en: {text_file_path}\")\n",
    "else:\n",
    "    print(\"No se pudo transcribir el audio.\")"
   ]
  }
 ],
 "metadata": {
  "kernelspec": {
   "display_name": "venv",
   "language": "python",
   "name": "python3"
  },
  "language_info": {
   "codemirror_mode": {
    "name": "ipython",
    "version": 3
   },
   "file_extension": ".py",
   "mimetype": "text/x-python",
   "name": "python",
   "nbconvert_exporter": "python",
   "pygments_lexer": "ipython3",
   "version": "3.12.1"
  }
 },
 "nbformat": 4,
 "nbformat_minor": 5
}
