{
 "cells": [
  {
   "cell_type": "markdown",
   "id": "fbcf0c64",
   "metadata": {},
   "source": [
    "# Redes neuronales con tensorflow"
   ]
  },
  {
   "cell_type": "markdown",
   "id": "5bf40119",
   "metadata": {},
   "source": [
    "En este ejemplo veremos como entrenar una red neuronal para reconocer número escritos a mano, este modelo permite:\n",
    "\n",
    "Reconocer el numero de $0$ a $9$ contenido en una imagen."
   ]
  },
  {
   "cell_type": "markdown",
   "id": "b84e079b",
   "metadata": {},
   "source": [
    "Importamos las librerias necesarias, `Keras` y `Tensorflow`."
   ]
  },
  {
   "cell_type": "code",
   "execution_count": null,
   "id": "a78dbe6c",
   "metadata": {
    "vscode": {
     "languageId": "plaintext"
    }
   },
   "outputs": [],
   "source": [
    "from tensorflow.keras.models import Sequential\n",
    "from tensorflow.keras.layers import Dense, Flatten\n",
    "from tensorflow.keras.layers import Conv2D, MaxPooling2D\n",
    "from tensorflow.keras.datasets import mnist\n",
    "from tensorflow.keras.utils import to_categorical\n",
    "import numpy as np\n",
    "import matplotlib.pyplot as plt"
   ]
  },
  {
   "cell_type": "markdown",
   "id": "2a6d8cc8",
   "metadata": {},
   "source": [
    "Importamos el dataset llamado **MNIST** ($70,000$ imagenes de numeros de $0$ a $9$)"
   ]
  },
  {
   "cell_type": "code",
   "execution_count": null,
   "id": "62e58229",
   "metadata": {
    "vscode": {
     "languageId": "plaintext"
    }
   },
   "outputs": [],
   "source": [
    "(X_train, y_train), (X_test, y_test) = mnist.load_data()"
   ]
  }
 ],
 "metadata": {
  "language_info": {
   "name": "python"
  }
 },
 "nbformat": 4,
 "nbformat_minor": 5
}
